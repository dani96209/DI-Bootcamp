{
  "nbformat": 4,
  "nbformat_minor": 0,
  "metadata": {
    "colab": {
      "provenance": []
    },
    "kernelspec": {
      "name": "python3",
      "display_name": "Python 3"
    },
    "language_info": {
      "name": "python"
    }
  },
  "cells": [
    {
      "cell_type": "code",
      "execution_count": 7,
      "metadata": {
        "colab": {
          "base_uri": "https://localhost:8080/"
        },
        "id": "0kCIhHweF37D",
        "outputId": "7957a3eb-e359-4c5a-c4ed-62ecb5163743"
      },
      "outputs": [
        {
          "output_type": "stream",
          "name": "stdout",
          "text": [
            "Requirement already satisfied: openpyxl in /usr/local/lib/python3.11/dist-packages (3.1.5)\n",
            "Requirement already satisfied: pandas in /usr/local/lib/python3.11/dist-packages (2.2.2)\n",
            "Requirement already satisfied: xlrd in /usr/local/lib/python3.11/dist-packages (2.0.1)\n",
            "Requirement already satisfied: et-xmlfile in /usr/local/lib/python3.11/dist-packages (from openpyxl) (2.0.0)\n",
            "Requirement already satisfied: numpy>=1.23.2 in /usr/local/lib/python3.11/dist-packages (from pandas) (2.0.2)\n",
            "Requirement already satisfied: python-dateutil>=2.8.2 in /usr/local/lib/python3.11/dist-packages (from pandas) (2.8.2)\n",
            "Requirement already satisfied: pytz>=2020.1 in /usr/local/lib/python3.11/dist-packages (from pandas) (2025.1)\n",
            "Requirement already satisfied: tzdata>=2022.7 in /usr/local/lib/python3.11/dist-packages (from pandas) (2025.1)\n",
            "Requirement already satisfied: six>=1.5 in /usr/local/lib/python3.11/dist-packages (from python-dateutil>=2.8.2->pandas) (1.17.0)\n"
          ]
        }
      ],
      "source": [
        "!pip install openpyxl pandas xlrd\n"
      ]
    },
    {
      "cell_type": "code",
      "source": [
        "# Create a new workbook and select the active worksheet\n",
        "from openpyxl import Workbook\n",
        "\n",
        "wb = Workbook()\n",
        "ws = wb.active\n",
        "ws.title = \"Grades\"\n",
        "\n"
      ],
      "metadata": {
        "id": "7zzc5wrrHOn7"
      },
      "execution_count": 8,
      "outputs": []
    },
    {
      "cell_type": "code",
      "source": [
        "# Define the data structure\n",
        "data = {\n",
        "    \"Joe\": {\"math\": 65, \"science\": 78, \"english\": 98, \"gym\": 89},\n",
        "    \"Bill\": {\"math\": 55, \"science\": 72, \"english\": 87, \"gym\": 95},\n",
        "    \"Tim\": {\"math\": 100, \"science\": 45, \"english\": 75, \"gym\": 92},\n",
        "    \"Sally\": {\"math\": 30, \"science\": 25, \"english\": 45, \"gym\": 100},\n",
        "    \"Jane\": {\"math\": 100, \"science\": 100, \"english\": 100, \"gym\": 60}\n",
        "}\n",
        "\n",
        "# Write the header\n",
        "headers = [\"Student Name\", \"Math\", \"Science\", \"English\", \"Gym\"]\n",
        "ws.append(headers)"
      ],
      "metadata": {
        "id": "w46sQWIIIA-r"
      },
      "execution_count": 9,
      "outputs": []
    },
    {
      "cell_type": "code",
      "source": [
        "# Populate the sheet with data\n",
        "for student, grades in data.items():\n",
        "    ws.append([student, grades[\"math\"], grades[\"science\"], grades[\"english\"], grades[\"gym\"]])\n",
        "\n",
        "# Save the workbook\n",
        "wb.save(\"Grades.xlsx\")"
      ],
      "metadata": {
        "id": "UJCyQPNjIkpU"
      },
      "execution_count": 10,
      "outputs": []
    },
    {
      "cell_type": "code",
      "source": [
        "from openpyxl.styles import Font, PatternFill\n",
        "\n",
        "# Calculate averages and add the formula in the last row\n",
        "num_students = len(data)\n",
        "average_row = [\"Average\"]\n",
        "for col in range(2, 6):\n",
        "    col_letter = chr(64 + col)\n",
        "    average_row.append(f\"=AVERAGE({col_letter}2:{col_letter}{num_students + 1})\")\n",
        "ws.append(average_row)\n",
        "\n",
        "# Set header style (bold and colored background)\n",
        "\n",
        "header_font = Font(bold=True, color=\"FFFFFF\")  # White Police\n",
        "header_fill = PatternFill(start_color=\"4F81BD\", end_color=\"4F81BD\", fill_type=\"solid\")  # Blue Background\n",
        "\n",
        "# Apply style to first row (header)\n",
        "\n",
        "for cell in ws[1]:\n",
        "    cell.font = header_font\n",
        "    cell.fill = header_fill\n",
        "\n",
        "# Save the workbook\n",
        "wb.save(\"Grades.xlsx\")"
      ],
      "metadata": {
        "id": "ryZvSYOnLADe"
      },
      "execution_count": 11,
      "outputs": []
    }
  ]
}