{
  "nbformat": 4,
  "nbformat_minor": 0,
  "metadata": {
    "colab": {
      "provenance": []
    },
    "kernelspec": {
      "name": "python3",
      "display_name": "Python 3"
    },
    "language_info": {
      "name": "python"
    }
  },
  "cells": [
    {
      "cell_type": "code",
      "execution_count": 1,
      "metadata": {
        "colab": {
          "base_uri": "https://localhost:8080/"
        },
        "id": "w-mK-VFmPb_8",
        "outputId": "e0a19aa5-8384-4366-c465-cd0fea12354c"
      },
      "outputs": [
        {
          "output_type": "stream",
          "name": "stdout",
          "text": [
            "Requirement already satisfied: openpyxl in /usr/local/lib/python3.11/dist-packages (3.1.5)\n",
            "Requirement already satisfied: pandas in /usr/local/lib/python3.11/dist-packages (2.2.2)\n",
            "Requirement already satisfied: xlrd in /usr/local/lib/python3.11/dist-packages (2.0.1)\n",
            "Requirement already satisfied: et-xmlfile in /usr/local/lib/python3.11/dist-packages (from openpyxl) (2.0.0)\n",
            "Requirement already satisfied: numpy>=1.23.2 in /usr/local/lib/python3.11/dist-packages (from pandas) (2.0.2)\n",
            "Requirement already satisfied: python-dateutil>=2.8.2 in /usr/local/lib/python3.11/dist-packages (from pandas) (2.8.2)\n",
            "Requirement already satisfied: pytz>=2020.1 in /usr/local/lib/python3.11/dist-packages (from pandas) (2025.1)\n",
            "Requirement already satisfied: tzdata>=2022.7 in /usr/local/lib/python3.11/dist-packages (from pandas) (2025.1)\n",
            "Requirement already satisfied: six>=1.5 in /usr/local/lib/python3.11/dist-packages (from python-dateutil>=2.8.2->pandas) (1.17.0)\n"
          ]
        }
      ],
      "source": [
        "!pip install openpyxl pandas xlrd\n"
      ]
    },
    {
      "cell_type": "code",
      "source": [
        "from openpyxl import Workbook\n",
        "\n",
        "# Create a new workbook and select the active sheet\n",
        "\n",
        "wb = Workbook()\n",
        "ws = wb.active\n",
        "\n",
        "\n",
        "ws[\"A1\"] = \"First number ==> \"\n",
        "ws[\"A2\"] = \"Second number ==> \"\n",
        "ws[\"B1\"] = 2\n",
        "ws[\"B2\"] = 8\n",
        "\n",
        "# Add the multiplication formula\n",
        "\n",
        "ws[\"B3\"] = \"=B1*B2\"\n",
        "\n",
        "# Save the workbook\n",
        "wb.save(\"SimpleCalculator.xlsx\")"
      ],
      "metadata": {
        "id": "U6loM2eCQJQW"
      },
      "execution_count": 7,
      "outputs": []
    },
    {
      "cell_type": "code",
      "source": [
        "# Exercise 2\n",
        "import openpyxl\n",
        "\n",
        "# Open the workbook and select the first sheet\n",
        "wb = openpyxl.load_workbook('Plants.xlsx')\n",
        "ws = wb['Sheet1']\n",
        "\n",
        "# Start from cell A2\n",
        "cell = ws['A2']\n",
        "\n",
        "# Loop through the rows until a blank cell is encountered\n",
        "while cell.value is not None:\n",
        "    # Check if the plant is not in stock (Column H, which is 7 columns to the right of column A)\n",
        "    stock_status = cell.offset(row=0, column=7).value\n",
        "    if stock_status == \"No\":\n",
        "        print(cell.value)\n",
        "\n",
        "    # Move to the next row\n",
        "    cell = cell.offset(row=1, column=0)\n"
      ],
      "metadata": {
        "colab": {
          "base_uri": "https://localhost:8080/"
        },
        "id": "PMvWGA3xRX8U",
        "outputId": "d0767db7-5c61-45e4-d28d-fc020496155f"
      },
      "execution_count": 8,
      "outputs": [
        {
          "output_type": "stream",
          "name": "stdout",
          "text": [
            "Honeysuckle\n",
            "Lupin\n",
            "Skimmia\n",
            "Rosa\n",
            "Gladioli\n"
          ]
        },
        {
          "output_type": "stream",
          "name": "stderr",
          "text": [
            "/usr/local/lib/python3.11/dist-packages/openpyxl/worksheet/header_footer.py:48: UserWarning: Cannot parse header or footer so it will be ignored\n",
            "  warn(\"\"\"Cannot parse header or footer so it will be ignored\"\"\")\n"
          ]
        }
      ]
    },
    {
      "cell_type": "code",
      "source": [
        "# Exercise 3\n",
        "\n",
        "import pandas as pd\n",
        "from openpyxl import load_workbook\n",
        "from openpyxl.utils.dataframe import dataframe_to_rows\n",
        "# Load the Excel file\n",
        "file_path = 'data.xlsx'  # Replace with your file path\n",
        "df = pd.read_excel(file_path)\n",
        "\n",
        "# Filter the data where 'Sales' is greater than 1000\n",
        "filtered_df = df[df['Sales'] > 1000]\n",
        "\n",
        "# Write the filtered data back to the Excel file using openpyxl\n",
        "from openpyxl import load_workbook\n",
        "\n",
        "# Load the existing workbook\n",
        "wb = load_workbook(file_path)\n",
        "\n",
        "# Create a new sheet or get the existing one\n",
        "if 'FilteredData' in wb.sheetnames:\n",
        "    sheet = wb['FilteredData']\n",
        "else:\n",
        "    sheet = wb.create_sheet('FilteredData')\n",
        "\n",
        "# Write the filtered DataFrame to the new sheet\n",
        "for row in dataframe_to_rows(filtered_df, index=False, header=True):\n",
        "    sheet.append(row)\n",
        "\n",
        "# Save the workbook with the new data\n",
        "wb.save(file_path)\n",
        "\n",
        "print(f\"Filtered data saved to {file_path}\")"
      ],
      "metadata": {
        "colab": {
          "base_uri": "https://localhost:8080/"
        },
        "id": "CMZuznNLZVNF",
        "outputId": "a1b78ef8-4330-47bc-fb3d-423c9d525920"
      },
      "execution_count": 9,
      "outputs": [
        {
          "output_type": "stream",
          "name": "stdout",
          "text": [
            "Filtered data saved to data.xlsx\n"
          ]
        }
      ]
    },
    {
      "cell_type": "code",
      "source": [
        "# Exercise 4\n",
        "import pandas as pd\n",
        "import matplotlib.pyplot as plt\n",
        "\n",
        "# Step 1: Read data from the Excel file\n",
        "file_path = 'productSales.xlsx'  # Update with the correct path to your file\n",
        "df = pd.read_excel(file_path)\n",
        "\n",
        "# Step 2: Group data by 'product' and sum the sales for each product\n",
        "grouped_data = df.groupby('product')['sales'].sum().reset_index()\n",
        "\n",
        "# Step 3: Export the manipulated data into a new Excel file\n",
        "output_path = 'sales_report.xlsx'  # The new Excel file to save\n",
        "with pd.ExcelWriter(output_path) as writer:\n",
        "    grouped_data.to_excel(writer, index=False, sheet_name='SalesReport')\n",
        "    # Saving the data and closing the ExcelWriter automatically when done\n",
        "\n",
        "print(f\"Sales report has been saved to {output_path}\")"
      ],
      "metadata": {
        "colab": {
          "base_uri": "https://localhost:8080/"
        },
        "id": "Br8eVz-4daSL",
        "outputId": "1d367ad7-be82-4f69-e2f2-b1e070ad6983"
      },
      "execution_count": 10,
      "outputs": [
        {
          "output_type": "stream",
          "name": "stdout",
          "text": [
            "Sales report has been saved to sales_report.xlsx\n"
          ]
        }
      ]
    }
  ]
}