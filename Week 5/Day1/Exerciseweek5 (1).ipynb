{
  "nbformat": 4,
  "nbformat_minor": 0,
  "metadata": {
    "colab": {
      "provenance": []
    },
    "kernelspec": {
      "name": "python3",
      "display_name": "Python 3"
    },
    "language_info": {
      "name": "python"
    }
  },
  "cells": [
    {
      "cell_type": "markdown",
      "source": [
        "Exercise 1:\n",
        "\n",
        "To build a predictive model for loan defaults, a wide range of data types should be collected to ensure that the model has enough information to identify patterns in the applicants' profiles and loan characteristics that correlate with defaults.\n",
        "\n",
        "Personal Details of Applicants:\n",
        "\n",
        "Age: The age of the borrower can indicate financial stability.\n",
        "Gender: This data may help assess trends in loan default rates based on gender, though it should be used carefully to avoid biases.\n",
        "\n",
        "Marital Status: Marital status could impact financial stability and household income.\n",
        "\n",
        "Education Level: Higher education levels may correlate with more stable financial conditions and better repayment records.\n",
        "\n",
        "Employment Status: Full-time employment, self-employment, or unemployment status can influence a borrower’s ability to repay loans.\n",
        "\n",
        "Income Level: A higher income typically implies a higher capacity to repay loans.\n",
        "Credit History and Credit Scores:\n",
        "\n",
        "Credit Score: A numerical representation of a borrower’s creditworthiness. A lower credit score may increase the likelihood of default.\n",
        "\n",
        "Credit History: Information about past loans, credit card usage, and any previous defaults or late payments.\n",
        "\n",
        "Outstanding Debt: Total debt the borrower has, including existing loans, credit cards, and mortgages.\n",
        "\n",
        "Number of Credit Inquiries: Frequent credit inquiries may indicate financial instability or an attempt to acquire more debt.\n",
        "Loan Characteristics:\n",
        "\n",
        "Loan Amount: The size of the loan requested or granted.\n",
        "Interest Rate: The interest rate attached to the loan. Higher rates might correlate with higher risk.\n",
        "Loan Term: The length of time the borrower has to repay the loan.\n",
        "Loan Type: Mortgage, personal loan, auto loan, etc.\n",
        "Collateral: Whether the loan is secured or unsecured. Secured loans might have a lower risk of default.\n",
        "\n",
        "\n",
        "Sources for Data Collection\n",
        "\n",
        "The data needed to predict loan defaults can be gathered from a variety of sources. Some of these sources are internal to financial institutions, while others come from external providers.\n",
        "\n",
        "Internal Data from Financial Institutions:\n",
        "\n",
        "Customer Records: Most of the personal details, loan characteristics, and repayment histories will be available from the financial institution’s internal customer records.\n",
        "\n",
        "Transaction History: Financial institutions maintain detailed records of customer transactions and account activity, which can be used to assess repayment behavior.\n",
        "\n",
        "Internal Credit History: The financial institution will have records of the applicant’s previous loans and their repayment performance.\n",
        "Loan Management Systems: These systems provide comprehensive data on all loan applicants, including loan type, loan amount, repayment schedule, and payment history.\n",
        "\n",
        "External Data from Credit Bureaus:\n",
        "\n",
        "Credit Scores: Credit bureaus like Experian, Equifax, and TransUnion maintain records of individuals’ credit scores and history, which are used by financial institutions for credit assessments.\n",
        "\n",
        "Credit Reports: These provide detailed information on a borrower’s credit history, outstanding debts, and any negative events such as defaults or bankruptcies.\n",
        "\n",
        "Credit Inquiries: These can be collected from credit bureau reports to understand how often the applicant has sought credit in the past.\n",
        "Publicly Available Data:\n",
        "\n",
        "Economic Data: Information on the general economic conditions (such as unemployment rates, regional economic trends) can be obtained from government databases or economic research organizations. This data can be used to assess regional financial stability, which might affect loan repayment behavior.\n"
      ],
      "metadata": {
        "id": "k_K1LZHpNVbN"
      }
    },
    {
      "cell_type": "code",
      "execution_count": null,
      "metadata": {
        "id": "YxMPxVWMNRww"
      },
      "outputs": [],
      "source": [
        "# Exercise 2:\n",
        "# Loan_ID:\tCategorical : Low importance:\tJust an identifier, not predictive.\n",
        "# Gender:  Categorical\t: Low importance:\tMay have minor correlation with financial behavior but not a strong predictor. Can be tested in exploratory analysis.\n",
        "# Married:\tCategorical\t: Medium importance:\tMay influence loan approval, but its impact on default risk is uncertain.\n",
        "# Dependents:\tCategorical:\t High relevant:\tMore dependents may increase financial burden, affecting default risk.\n",
        "# Education\t:Categorical\t: High relevant:\tHigher education levels may correlate with better financial stability.\n",
        "# Self_Employed\t:Categorical: Medium relevant:\tSelf-employed applicants may have fluctuating incomes, affecting default risk.\n",
        "# ApplicantIncome\t:Numerical\t: High relevant:\tKey predictor of repayment ability. Higher income generally reduces default risk.\n",
        "# CoapplicantIncome:\tNumerical: Medium relevant:\tA co-applicant can improve repayment capacity, reducing default risk.\n",
        "# LoanAmount\t:Numerical\t: High relevant:\tLarger loans increase financial burden, raising default probability.\n",
        "# Loan_Amount_Term\t:Numerical: Medium relevant:\tLonger loan terms can increase total interest paid and default risk.\n",
        "# Credit_History\t:Categorical: Very High relevant:\tOne of the strongest predictors. A poor credit history significantly increases default likelihood.\n",
        "# Property_Area\t:Categorical: Medium relevant:\tUrban vs. Rural areas might impact default risk due to economic factors.\n",
        "# Loan_Status\t:Categorical (Target )\tTarget variable (1 = Approved, 0 = Default or Yes/ No)."
      ]
    },
    {
      "cell_type": "markdown",
      "source": [
        "Exercise 3:\n",
        "\n",
        "Given that we are predicting Loan_Status (a binary classification problem: Approved vs. Default), the best models to consider are:\n",
        "\n",
        "1.Baseline Model: Logistic Regression\n",
        "Simple, interpretable, and computationally efficient.\n",
        "Works well with structured data and provides probability estimates.\n",
        "\n",
        "2. Steps for Model Training & Evaluation\n",
        "\n",
        "Step 1: Data Preprocessing\n",
        "\n",
        "Handle missing values (Credit_History, LoanAmount, Dependents).\n",
        "Convert categorical variables (Married, Education, Self_Employed, etc.) using One-Hot Encoding or Label Encoding.\n",
        "Normalize numerical features (ApplicantIncome, LoanAmount) for models that require scaling (Logistic Regression, SVM).\n",
        "\n",
        "Step 2: Train-Test Split & Cross-Validation\n",
        "\n",
        "Split data into training (80%) and testing (20%) sets.\n",
        "Use Stratified K-Fold Cross-Validation (e.g., K=5 or 10) to improve reliability.\n",
        "\n",
        "Step 3: Model Training\n",
        "Train models using the training set.\n",
        "\n",
        "Metric\t         Description\t                     When to Use\n",
        "Accuracy\t   (TP + TN) / (Total Samples)\t  Good for balanced datasets.\n",
        "Precision\t    TP / (TP + FP)\t        Important when false positives are costly (e.g., wrongly approving risky borrowers).\n",
        "\n",
        "*TP:True positives\n",
        "*TN: True negatives\n",
        "*FP: False positives"
      ],
      "metadata": {
        "id": "x-kTfkEyQ-2Q"
      }
    },
    {
      "cell_type": "markdown",
      "source": [
        "Exercise 4:\n",
        "\n",
        "Predicting Stock Prices :\n",
        "Type: Supervised Learning (Regression)\n",
        "\n",
        "Why?\n",
        "\n",
        "Stock price prediction involves forecasting a continuous numerical value based on historical data (e.g., previous prices, trading volume, market indicators).\n",
        "\n",
        "Organizing a Library of Books :\n",
        "\n",
        "Type: Unsupervised Learning (Clustering)\n",
        "\n",
        "Why?\n",
        "\n",
        "The task is to group books into genres/categories based on their similarities (title, author, keywords, descriptions, etc.) without predefined labels.\n",
        "\n",
        "Program a Robot to Navigate and find the shortest path in a maze :\n",
        "Type: Reinforcement Learning\n",
        "\n",
        "Why?\n",
        "\n",
        "The robot must learn to explore and find the shortest path based on trial and error, improving over time through rewards and penalties."
      ],
      "metadata": {
        "id": "7qqnTtdHT1eg"
      }
    },
    {
      "cell_type": "code",
      "source": [
        "# Exercise 5:\n",
        "\n",
        "from sklearn.datasets import load_iris\n",
        "from sklearn.model_selection import train_test_split, cross_val_score\n",
        "from sklearn.ensemble import RandomForestClassifier\n",
        "from sklearn.metrics import accuracy_score, precision_score, recall_score, f1_score, confusion_matrix, roc_auc_score\n",
        "\n",
        "# Load data\n",
        "data = load_iris()\n",
        "X, y = data.data, data.target\n",
        "\n",
        "# Separate into train (80%) and test (20%)\n",
        "X_train, X_test, y_train, y_test = train_test_split(X, y, test_size=0.2, random_state=42, stratify=y)\n",
        "\n",
        "# Initialize the model\n",
        "\n",
        "model = RandomForestClassifier(n_estimators=100, random_state=42)\n",
        "\n",
        "# Train the model\n",
        "model.fit(X_train, y_train)\n",
        "\n",
        "# Predictions on the test set\n",
        "\n",
        "y_pred = model.predict(X_test)"
      ],
      "metadata": {
        "id": "gSmmzytt6a7x"
      },
      "execution_count": 6,
      "outputs": []
    },
    {
      "cell_type": "code",
      "source": [
        "# Accuracy\n",
        "acc = accuracy_score(y_test, y_pred)\n",
        "\n",
        "# Precision, Recall and F1-Score (calculated for each class and averaged)\n",
        "precision = precision_score(y_test, y_pred, average=\"weighted\")\n",
        "recall = recall_score(y_test, y_pred, average=\"weighted\")\n",
        "f1 = f1_score(y_test, y_pred, average=\"weighted\")\n",
        "\n",
        "# Confusion matrix\n",
        "conf_matrix = confusion_matrix(y_test, y_pred)\n",
        "\n",
        "# Print results\n",
        "print(f\"Accuracy: {acc:.2f}\")\n",
        "print(f\"Precision: {precision:.2f}\")\n",
        "print(f\"Recall: {recall:.2f}\")\n",
        "print(f\"F1-score: {f1:.2f}\")\n",
        "print(\"Confusion matrix:\")\n",
        "print(conf_matrix)"
      ],
      "metadata": {
        "colab": {
          "base_uri": "https://localhost:8080/"
        },
        "id": "BcJnT0cK6xa4",
        "outputId": "555e49e4-28b0-48a9-a7f3-c24b8e602f84"
      },
      "execution_count": 7,
      "outputs": [
        {
          "output_type": "stream",
          "name": "stdout",
          "text": [
            "Accuracy: 0.90\n",
            "Precision: 0.90\n",
            "Recall: 0.90\n",
            "F1-score: 0.90\n",
            "Confusion matrix:\n",
            "[[10  0  0]\n",
            " [ 0  9  1]\n",
            " [ 0  2  8]]\n"
          ]
        }
      ]
    },
    {
      "cell_type": "markdown",
      "source": [
        "Matrice confusion interpretation:\n",
        "\n",
        "               Predicted: Class 0     Predicted: Class 1    Predicted: Class 2\n",
        "\n",
        "\n",
        "    \n",
        "Actual: Class 0        10 (TP)              0 (FP)             0 (FP)\n",
        "\n",
        "      \n",
        "Actual:  Class 1       0 (FN)               9 (TP)             1 (FP)\n",
        "\n",
        "     \n",
        "Actual: Class 2        0 (FN)               2 (FN)             8 (TP)\n",
        "\n",
        "Class 0 (1st row):\n",
        "\n",
        "10 times well classified (diagonal: true positive).\n",
        "0 classification errors (no misclassified elements).\n",
        "Very good performance for this class.\n",
        "\n",
        "Class 1 (2nd row):\n",
        "\n",
        "9 times well classified as class 1.\n",
        "1 time misclassified in class 2.\n",
        "No errors towards class 0.\n",
        "Acceptable performance but with a little confusion with class 2.\n",
        "\n",
        "Class 2 (3rd row):\n",
        "\n",
        "8 times well classified in class 2.\n",
        "2 times misclassified in class 1.\n",
        "No errors towards class 0.\n",
        "Performance a little weaker than the other classes."
      ],
      "metadata": {
        "id": "-cpakd9qUVh9"
      }
    },
    {
      "cell_type": "markdown",
      "source": [
        "Conclusion:\n",
        "We train a classification model on sample data (Iris dataset).\n",
        "We evaluate its performance with accuracy, precision, recall and F1-score.\n",
        "We use cross-validation to check if the model is stable on different partitions of the data."
      ],
      "metadata": {
        "id": "rMc467nD7RaC"
      }
    },
    {
      "cell_type": "code",
      "source": [
        "from sklearn.datasets import load_iris\n",
        "from sklearn.cluster import KMeans\n",
        "from sklearn.metrics import silhouette_score\n",
        "import matplotlib.pyplot as plt\n",
        "\n",
        "# Load data\n",
        "data = load_iris()\n",
        "X = data.data\n",
        "\n",
        "# Initialize and train the K-Means model with k=3 (actual number of classes in Iris)\n",
        "\n",
        "kmeans = KMeans(n_clusters=3, random_state=42, n_init=10)\n",
        "y_pred = kmeans.fit_predict(X)"
      ],
      "metadata": {
        "id": "XIbOKtfs9HhL"
      },
      "execution_count": 8,
      "outputs": []
    },
    {
      "cell_type": "code",
      "source": [
        "# Silhouette Score\n",
        "sil_score = silhouette_score(X, y_pred)\n",
        "\n",
        "\n",
        "print(f\"Silhouette Score: {sil_score:.2f}\")"
      ],
      "metadata": {
        "colab": {
          "base_uri": "https://localhost:8080/"
        },
        "id": "v4Vr9qpc9Q6v",
        "outputId": "d24966b6-52fe-464b-ec38-5c2051be6708"
      },
      "execution_count": 9,
      "outputs": [
        {
          "output_type": "stream",
          "name": "stdout",
          "text": [
            "Silhouette Score: 0.55\n"
          ]
        }
      ]
    },
    {
      "cell_type": "code",
      "source": [
        "inertia = []\n",
        "k_range = range(1, 10)\n",
        "\n",
        "for k in k_range:\n",
        "    kmeans = KMeans(n_clusters=k, random_state=42, n_init=10)\n",
        "    kmeans.fit(X)\n",
        "    inertia.append(kmeans.inertia_)\n",
        "\n",
        "# Draw the curve\n",
        "plt.figure(figsize=(6,4))\n",
        "plt.plot(k_range, inertia, marker=\"o\")\n",
        "plt.xlabel(\" Clusters number\")\n",
        "plt.ylabel(\"Inertia\")\n",
        "plt.title(\"Elbow method\")\n",
        "plt.show()"
      ],
      "metadata": {
        "colab": {
          "base_uri": "https://localhost:8080/",
          "height": 410
        },
        "id": "7FJvKeSL9dTW",
        "outputId": "c468444f-c019-40f6-cd63-e7203f2600db"
      },
      "execution_count": 10,
      "outputs": [
        {
          "output_type": "display_data",
          "data": {
            "text/plain": [
              "<Figure size 600x400 with 1 Axes>"
            ],
            "image/png": "[encoded data removed]"
          },
          "metadata": {}
        }
      ]
    },
    {
      "cell_type": "markdown",
      "source": [
        "The elbow method is a technique used in clustering (eg k-means) to determine the optimal number of clusters (k).\n",
        "\n",
        "The optimal number of clusters k is at the elbow of the curve, that is, before adding a cluster no longer provides a significant gain in inertia reduction.\n",
        "Visually, this is the point where the curve changes from a steep slope to a gentler slope."
      ],
      "metadata": {
        "id": "i9SZHeLwX6ha"
      }
    },
    {
      "cell_type": "markdown",
      "source": [
        " Limit:\n",
        "\n",
        " The silhouette score might be misleading if the data has an inherent structure that doesn’t fit the assumptions of the clustering algorithm. For example, in highly imbalanced datasets or when the clusters have irregular shapes, the silhouette score may not fully capture the cluster quality.\n",
        "\n",
        "Determining the \"elbow\" is subjective, and in some cases, the curve might not have a clear inflection point, making it hard to choose the optimal number of clusters."
      ],
      "metadata": {
        "id": "jTV7ZqQXEcYE"
      }
    },
    {
      "cell_type": "markdown",
      "source": [
        "Evaluating a Reinforcement Learning (RL) model is different from supervised or unsupervised learning because RL involves sequential decision-making and learning from interactions with an environment.\n",
        "\n",
        "Cumulative Reward:\n",
        "\n",
        "The cumulative reward (or return) is the total reward collected by the agent over time.\n",
        "In many RL problems, the goal is to maximize this reward.\n",
        "\n",
        "Example:\n",
        "\n",
        "In game playing, a good RL agent should score high points (high cumulative reward).\n",
        "In robotics, an efficient robot should minimize energy use while completing tasks.\n",
        "\n",
        "Limit: While cumulative reward indicates performance, it doesn’t always capture the efficiency of the agent. An agent might learn to accumulate a high reward in the short term but might not generalize well or explore the environment adequately.\n",
        "\n",
        "Exploration vs. Exploitation Balance\n",
        "\n",
        "Exploration: Trying new actions to discover better strategies.\n",
        "Exploitation: Using known good actions to maximize rewards\n",
        "\n",
        "Limit:Striking the right balance is difficult. Too much exploration can result in poor rewards in the short term, while too much exploitation can prevent the agent from discovering better strategies."
      ],
      "metadata": {
        "id": "L9BWppFLC0cD"
      }
    }
  ]
}