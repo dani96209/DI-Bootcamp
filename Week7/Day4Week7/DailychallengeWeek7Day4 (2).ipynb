{
  "nbformat": 4,
  "nbformat_minor": 0,
  "metadata": {
    "colab": {
      "provenance": []
    },
    "kernelspec": {
      "name": "python3",
      "display_name": "Python 3"
    },
    "language_info": {
      "name": "python"
    }
  },
  "cells": [
    {
      "cell_type": "code",
      "execution_count": 15,
      "metadata": {
        "colab": {
          "base_uri": "https://localhost:8080/"
        },
        "id": "jMkMpkCPN2_d",
        "outputId": "e485aa78-a74e-40f2-8d26-29ad02d0bc18"
      },
      "outputs": [
        {
          "output_type": "stream",
          "name": "stdout",
          "text": [
            "Calculated effect size: -0.08\n",
            "Required sample size per group: 2198\n"
          ]
        }
      ],
      "source": [
        "import statsmodels.api as sm\n",
        "from statsmodels.stats.power import NormalIndPower\n",
        "from statsmodels.stats.proportion import proportion_effectsize\n",
        "\n",
        "\n",
        "# A/B test Parameters\n",
        "\n",
        "p1 = 0.05  # Current conversion rate (5%)\n",
        "p2 = 0.07  # Expected conversion rate with the new method (7%)\n",
        "\n",
        "# Calculating the effect size\n",
        "effects_size = proportion_effectsize(p1, p2)\n",
        "\n",
        "\n",
        "print(f\"Calculated effect size: {effects_size:.2f}\")\n",
        "\n",
        "alpha = 0.05  # Significance level\n",
        "power = 0.8  # Desired power\n",
        "\n",
        "# Instantiate power analysis object\n",
        "power_analysis = NormalIndPower()\n",
        "\n",
        "# Calculate sample size per group\n",
        "sample_size_per_group = power_analysis.solve_power(effect_size=effects_size, alpha=alpha, power=power, alternative='two-sided')\n",
        "\n",
        "print(f\"Required sample size per group: {round(sample_size_per_group)}\")"
      ]
    },
    {
      "cell_type": "code",
      "source": [
        "# Parameters\n",
        "effect_size = 0.2  # Expected effect size (Cohen's d)\n",
        "alpha = 0.05  # Significance level\n",
        "power = 0.8  # Desired power\n",
        "\n",
        "# Instantiate power analysis object\n",
        "power_analysis = NormalIndPower()\n",
        "\n",
        "# Calculate sample size per group\n",
        "sample_size_per_group = power_analysis.solve_power(effect_size=effect_size, alpha=alpha, power=power, alternative='two-sided')\n",
        "\n",
        "print(f\"Required sample size per group: {round(sample_size_per_group)}\")"
      ],
      "metadata": {
        "colab": {
          "base_uri": "https://localhost:8080/"
        },
        "id": "tJ_HCa8BTFJ5",
        "outputId": "04655581-899a-4e3b-a2a5-675f3d1c4fd9"
      },
      "execution_count": 16,
      "outputs": [
        {
          "output_type": "stream",
          "name": "stdout",
          "text": [
            "Required sample size per group: 392\n"
          ]
        }
      ]
    },
    {
      "cell_type": "code",
      "source": [
        "# Effect sizes\n",
        "effect_sizes = [0.1, 0.2, 0.3, 0.4]\n",
        "\n",
        "# Calculate sample sizes for different effect sizes\n",
        "sample_sizes = [round(power_analysis.solve_power(effect_size=es, alpha=alpha, power=power, alternative='two-sided')) for es in effect_sizes]\n",
        "\n",
        "# Loop through with indices\n",
        "for i in range(len(effect_sizes)):\n",
        "    print(f\"Effect Size: {effect_sizes[i]}, Sample Size per Group: {sample_sizes[i]}\")"
      ],
      "metadata": {
        "colab": {
          "base_uri": "https://localhost:8080/"
        },
        "id": "e0C46ztAOboZ",
        "outputId": "6d3ace86-a1af-41de-fb91-cb13d0baf7cb"
      },
      "execution_count": 17,
      "outputs": [
        {
          "output_type": "stream",
          "name": "stdout",
          "text": [
            "Effect Size: 0.1, Sample Size per Group: 1570\n",
            "Effect Size: 0.2, Sample Size per Group: 392\n",
            "Effect Size: 0.3, Sample Size per Group: 174\n",
            "Effect Size: 0.4, Sample Size per Group: 98\n"
          ]
        }
      ]
    },
    {
      "cell_type": "markdown",
      "source": [
        "As the effect size increases, the required sample size decreases. Let’s break this down:\n",
        "\n",
        "Effect Size: In this case, the effect size is the difference between the current and new checkout conversion rates divided by the standard deviation. It measures the magnitude of the change you expect to observe. A larger effect size indicates a larger difference between the groups.\n",
        "\n",
        "Sample Size: The required sample size is inversely related to the effect size. This means that if you expect a larger difference between the groups (a larger effect size), you’ll need a smaller sample size to detect that difference with statistical significance.\n",
        "\n",
        "Smaller effect size: If the difference between the groups is small (e.g., 5% to 5.5% conversion rates), you need more data to confidently detect this difference, which increases the sample size.\n",
        "\n",
        "Larger effect size: If the difference is large (e.g., 5% to 7% conversion rates), it’s easier to detect with fewer data points, so the sample size required is smaller.\n",
        "\n",
        "In other words, the more significant the change you expect, the fewer participants you need to confidently observe it."
      ],
      "metadata": {
        "id": "umAgBidLO5A9"
      }
    },
    {
      "cell_type": "markdown",
      "source": [
        "The Bakery's A/B Test:\n",
        "\n",
        "Imagine you're testing the current checkout process (conversion rate = 5%) versus a new process that you think will increase the conversion rate to 7%.\n",
        "\n",
        "If you expect a small change (e.g., from 5% to 5.5%), you'll need a lot of customers to confidently say that the new process is better because the difference is subtle and harder to spot.\n",
        "\n",
        "If you expect a larger change (e.g., from 5% to 7%), it’s easier to detect that difference with fewer customers because the change is more obvious.\n",
        "\n",
        "Why Is This Important?\n",
        "\n",
        "Efficiency: By balancing the effect size and sample size, you're not wasting time and money testing with too many customers. If you expect a big change, you can get clear results with fewer customers. But if the change is small, you'll need a bigger sample to be sure of your results.\n",
        "\n",
        "Confidence: With the right sample size, you can confidently say whether the new process really works or not. If you don't use enough participants, you might end up making a decision based on random fluctuations, which is risky and costly.\n",
        "\n",
        "In short, balancing the effect size and sample size helps you get reliable results without overloading your test. It’s like getting the perfect mix of ingredients for a recipe: too little data, and you don’t know for sure whether the new process works; too much, and you’re just wasting resources. By calculating the right sample size, you ensure you're making decisions based on real data, not guesses. And that’s the secret ingredient to making sweet sales happen!"
      ],
      "metadata": {
        "id": "Oc9ok6MrO7Nf"
      }
    }
  ]
}